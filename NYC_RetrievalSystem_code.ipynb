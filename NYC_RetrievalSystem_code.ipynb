{
 "cells": [
  {
   "cell_type": "code",
   "execution_count": 38,
   "id": "eaa3f191-7b23-4849-88b9-a3d95c0eea43",
   "metadata": {},
   "outputs": [],
   "source": [
    "# 1. Start Spark Session\n",
    "from pyspark.sql import SparkSession\n",
    "from pyspark.sql.functions import to_date, to_timestamp, concat_ws, col, year, month, dayofmonth, hour, date_format, when, count\n",
    "\n",
    "# mongo-spark-connector\n",
    "import os\n",
    "os.environ[\"PYSPARK_SUBMIT_ARGS\"] = \"--packages org.mongodb.spark:mongo-spark-connector_2.12:3.0.1 pyspark-shell\"\n",
    "spark = SparkSession.builder \\\n",
    "    .appName(\"NYPD_ETL_Project\") \\\n",
    "    .config(\"spark.mongodb.output.uri\", \"mongodb://localhost:27017/nyc_crime.complaints\") \\\n",
    "    .getOrCreate()"
   ]
  },
  {
   "cell_type": "code",
   "execution_count": 40,
   "id": "9b57f250-1755-40d3-8d9b-c2240de7ab88",
   "metadata": {},
   "outputs": [
    {
     "name": "stderr",
     "output_type": "stream",
     "text": [
      "                                                                                \r"
     ]
    },
    {
     "name": "stdout",
     "output_type": "stream",
     "text": [
      "+----------+------------+------------+------------+------------+-----------+----------+-----+--------------+-----+--------------------+----------------+-----------+---------+-----------------+--------------------+-------------------+-----------------+--------+----------+-----------+----------+----------+--------------+---------+--------+----------------+---------+----------+--------------------+--------------------+------------+-------------+--------------+-------+\n",
      "|CMPLNT_NUM|CMPLNT_FR_DT|CMPLNT_FR_TM|CMPLNT_TO_DT|CMPLNT_TO_TM|ADDR_PCT_CD|    RPT_DT|KY_CD|     OFNS_DESC|PD_CD|             PD_DESC|CRM_ATPT_CPTD_CD| LAW_CAT_CD|  BORO_NM|LOC_OF_OCCUR_DESC|       PREM_TYP_DESC|         JURIS_DESC|JURISDICTION_CODE|PARKS_NM|HADEVELOPT|HOUSING_PSA|X_COORD_CD|Y_COORD_CD|SUSP_AGE_GROUP|SUSP_RACE|SUSP_SEX|TRANSIT_DISTRICT| Latitude| Longitude|             Lat_Lon|         PATROL_BORO|STATION_NAME|VIC_AGE_GROUP|      VIC_RACE|VIC_SEX|\n",
      "+----------+------------+------------+------------+------------+-----------+----------+-----+--------------+-----+--------------------+----------------+-----------+---------+-----------------+--------------------+-------------------+-----------------+--------+----------+-----------+----------+----------+--------------+---------+--------+----------------+---------+----------+--------------------+--------------------+------------+-------------+--------------+-------+\n",
      "|  39468181|  02/20/2008|    07:00:00|  02/23/2008|    08:00:00|         88|02/23/2008|  107|      BURGLARY|  221|BURGLARY,RESIDENC...|       COMPLETED|     FELONY| BROOKLYN|           INSIDE|RESIDENCE - APT. ...|   N.Y. POLICE DEPT|                0|  (null)|    (null)|     (null)|   991,818|   191,560|        (null)|  UNKNOWN|  (null)|            NULL|40.692464|-73.972708|(40.692464, -73.9...|PATROL BORO BKLYN...|      (null)|        25-44|         WHITE|      F|\n",
      "|  50539499|  08/21/2008|    22:00:00|  08/21/2008|    23:00:00|         19|08/22/2008|  109| GRAND LARCENY|  438|LARCENY,GRAND FRO...|       COMPLETED|     FELONY|MANHATTAN|         FRONT OF|      BAR/NIGHT CLUB|   N.Y. POLICE DEPT|                0|  (null)|    (null)|     (null)|   997,152|   220,300|        (null)|   (null)|  (null)|            NULL|40.771341|-73.953418|(40.771341, -73.9...|PATROL BORO MAN N...|      (null)|        45-64|WHITE HISPANIC|      F|\n",
      "|  45223390|  04/03/2008|    03:35:00|  04/03/2008|    03:50:00|         77|04/03/2008|  106|FELONY ASSAULT|  109|ASSAULT 2,1,UNCLA...|       COMPLETED|     FELONY| BROOKLYN|           INSIDE|RESIDENCE - PUBLI...|N.Y. HOUSING POLICE|                2|  (null)|    (null)|       3360| 1,004,579|   183,837|        (null)|   (null)|  (null)|            NULL|40.671245|-73.926713|(40.671245, -73.9...|PATROL BORO BKLYN...|      (null)|        25-44|         BLACK|      F|\n",
      "|  50594658|  08/19/2008|    09:00:00|        NULL|      (null)|         32|08/27/2008|  341| PETIT LARCENY|  349|LARCENY,PETIT OF ...|       COMPLETED|MISDEMEANOR|MANHATTAN|         FRONT OF|              STREET|   N.Y. POLICE DEPT|                0|  (null)|    (null)|     (null)|   999,965|   235,630|        (null)|  UNKNOWN|  (null)|            NULL|40.813412|-73.943226|(40.813412, -73.9...|PATROL BORO MAN N...|      (null)|       (null)|       UNKNOWN|      M|\n",
      "|  44451016|  03/10/2008|    22:00:00|  03/10/2008|    22:10:00|         67|03/11/2008|  105|       ROBBERY|  397|ROBBERY,OPEN AREA...|       COMPLETED|     FELONY| BROOKLYN|         FRONT OF|              STREET|   N.Y. POLICE DEPT|                0|  (null)|    (null)|     (null)|   999,602|   176,145|           <18|    BLACK|       M|            NULL|40.650142|-73.944674|(40.650142, -73.9...|PATROL BORO BKLYN...|      (null)|        25-44|         BLACK|      M|\n",
      "+----------+------------+------------+------------+------------+-----------+----------+-----+--------------+-----+--------------------+----------------+-----------+---------+-----------------+--------------------+-------------------+-----------------+--------+----------+-----------+----------+----------+--------------+---------+--------+----------------+---------+----------+--------------------+--------------------+------------+-------------+--------------+-------+\n",
      "only showing top 5 rows\n",
      "\n",
      "root\n",
      " |-- CMPLNT_NUM: string (nullable = true)\n",
      " |-- CMPLNT_FR_DT: string (nullable = true)\n",
      " |-- CMPLNT_FR_TM: string (nullable = true)\n",
      " |-- CMPLNT_TO_DT: string (nullable = true)\n",
      " |-- CMPLNT_TO_TM: string (nullable = true)\n",
      " |-- ADDR_PCT_CD: integer (nullable = true)\n",
      " |-- RPT_DT: string (nullable = true)\n",
      " |-- KY_CD: integer (nullable = true)\n",
      " |-- OFNS_DESC: string (nullable = true)\n",
      " |-- PD_CD: integer (nullable = true)\n",
      " |-- PD_DESC: string (nullable = true)\n",
      " |-- CRM_ATPT_CPTD_CD: string (nullable = true)\n",
      " |-- LAW_CAT_CD: string (nullable = true)\n",
      " |-- BORO_NM: string (nullable = true)\n",
      " |-- LOC_OF_OCCUR_DESC: string (nullable = true)\n",
      " |-- PREM_TYP_DESC: string (nullable = true)\n",
      " |-- JURIS_DESC: string (nullable = true)\n",
      " |-- JURISDICTION_CODE: integer (nullable = true)\n",
      " |-- PARKS_NM: string (nullable = true)\n",
      " |-- HADEVELOPT: string (nullable = true)\n",
      " |-- HOUSING_PSA: string (nullable = true)\n",
      " |-- X_COORD_CD: string (nullable = true)\n",
      " |-- Y_COORD_CD: string (nullable = true)\n",
      " |-- SUSP_AGE_GROUP: string (nullable = true)\n",
      " |-- SUSP_RACE: string (nullable = true)\n",
      " |-- SUSP_SEX: string (nullable = true)\n",
      " |-- TRANSIT_DISTRICT: integer (nullable = true)\n",
      " |-- Latitude: double (nullable = true)\n",
      " |-- Longitude: double (nullable = true)\n",
      " |-- Lat_Lon: string (nullable = true)\n",
      " |-- PATROL_BORO: string (nullable = true)\n",
      " |-- STATION_NAME: string (nullable = true)\n",
      " |-- VIC_AGE_GROUP: string (nullable = true)\n",
      " |-- VIC_RACE: string (nullable = true)\n",
      " |-- VIC_SEX: string (nullable = true)\n",
      "\n"
     ]
    },
    {
     "name": "stderr",
     "output_type": "stream",
     "text": [
      "                                                                                \r"
     ]
    },
    {
     "data": {
      "text/plain": [
       "8914838"
      ]
     },
     "execution_count": 40,
     "metadata": {},
     "output_type": "execute_result"
    }
   ],
   "source": [
    "# 2. Load Dataset\n",
    "file_path = \"NYPD_Complaint_Data_Historic_20250406.csv\"\n",
    "df = spark.read.csv(file_path, header=True, inferSchema=True)\n",
    "\n",
    "df.show(5)\n",
    "df.printSchema()\n",
    "df.count()"
   ]
  },
  {
   "cell_type": "code",
   "execution_count": 42,
   "id": "8d002651-10a9-402f-a9b4-8316c6ae1964",
   "metadata": {},
   "outputs": [],
   "source": [
    "# 3. Drop rows with critical nulls\n",
    "df_clean = df.dropna(subset=[\"CMPLNT_FR_DT\", \"CMPLNT_FR_TM\", \"BORO_NM\"])"
   ]
  },
  {
   "cell_type": "code",
   "execution_count": 44,
   "id": "78abf778-8b89-4d61-a91b-0333c7179db7",
   "metadata": {},
   "outputs": [],
   "source": [
    "# 4. Parse date (cast to string first to ensure correct parsing)\n",
    "df_clean = df_clean.withColumn(\n",
    "    \"date_only\",\n",
    "    to_date(col(\"CMPLNT_FR_DT\").cast(\"string\"), \"MM/dd/yyyy\")\n",
    ").filter(col(\"date_only\").isNotNull())"
   ]
  },
  {
   "cell_type": "code",
   "execution_count": 46,
   "id": "43851922-3533-48e6-b730-0a5775af5203",
   "metadata": {},
   "outputs": [],
   "source": [
    "# 5. Create timestamp from date + time\n",
    "df_clean = df_clean.withColumn(\n",
    "    \"timestamp\",\n",
    "    to_timestamp(\n",
    "        concat_ws(\" \", col(\"CMPLNT_FR_DT\").cast(\"string\"), col(\"CMPLNT_FR_TM\").cast(\"string\")),\n",
    "        \"MM/dd/yyyy HH:mm:ss\"\n",
    "    )\n",
    ").filter(col(\"timestamp\").isNotNull())"
   ]
  },
  {
   "cell_type": "code",
   "execution_count": 48,
   "id": "838acf67-9cec-4448-8a09-94f6bed7c462",
   "metadata": {},
   "outputs": [
    {
     "name": "stderr",
     "output_type": "stream",
     "text": [
      "                                                                                \r"
     ]
    },
    {
     "data": {
      "text/plain": [
       "8914136"
      ]
     },
     "execution_count": 48,
     "metadata": {},
     "output_type": "execute_result"
    }
   ],
   "source": [
    "# 6. Extract time features\n",
    "df_clean = df_clean \\\n",
    "    .withColumn(\"year\", year(\"date_only\")) \\\n",
    "    .withColumn(\"month\", month(\"date_only\")) \\\n",
    "    .withColumn(\"day\", dayofmonth(\"date_only\")) \\\n",
    "    .withColumn(\"hour\", hour(\"timestamp\")) \\\n",
    "    .withColumn(\"day_of_week\", date_format(\"timestamp\", \"EEEE\")) \\\n",
    "    .withColumn(\"time_of_day\", when(col(\"hour\").between(6, 11), \"Morning\")\n",
    "                                .when(col(\"hour\").between(12, 17), \"Afternoon\")\n",
    "                                .when(col(\"hour\").between(18, 21), \"Evening\")\n",
    "                                .otherwise(\"Night\"))\n",
    "df_clean.count()"
   ]
  },
  {
   "cell_type": "code",
   "execution_count": 49,
   "id": "1bae3753-6db4-41d2-8c36-e3d073067488",
   "metadata": {},
   "outputs": [
    {
     "name": "stderr",
     "output_type": "stream",
     "text": [
      "                                                                                \r"
     ]
    },
    {
     "data": {
      "text/plain": [
       "8911652"
      ]
     },
     "execution_count": 49,
     "metadata": {},
     "output_type": "execute_result"
    }
   ],
   "source": [
    "# 7. Filter out corrupted years (like 1010, 1011)\n",
    "df_clean = df_clean.filter(col(\"year\") >= 2000)\n",
    "df_clean.count()"
   ]
  },
  {
   "cell_type": "code",
   "execution_count": 53,
   "id": "842d0595-e8c1-40ec-8792-86f566fdaaae",
   "metadata": {},
   "outputs": [
    {
     "name": "stderr",
     "output_type": "stream",
     "text": [
      "                                                                                \r"
     ]
    },
    {
     "name": "stdout",
     "output_type": "stream",
     "text": [
      " Cleaned CSV is ready to download as 'cleaned_data.csv'\n"
     ]
    }
   ],
   "source": [
    "# Select the columns needed\n",
    "\n",
    "# Drop the column\n",
    "df_selected = df_clean.drop(\"CMPLNT_TO_DT\")\n",
    "# Repartition to 1 file (so it doesn’t split into many CSVs)\n",
    "df_selected = df_selected.coalesce(1)\n",
    "# Write to CSV (as a folder with one CSV inside)\n",
    "output_path = \"cleaned_csv_output\"\n",
    "df_selected.write.csv(output_path, header=True, mode=\"overwrite\")\n",
    "#  Find the CSV file inside the output folder\n",
    "for file in os.listdir(\"cleaned_csv_output\"):\n",
    "    if file.endswith(\".csv\"):\n",
    "        full_path = os.path.join(\"cleaned_csv_output\", file)\n",
    "        break\n",
    "# download\n",
    "import shutil\n",
    "shutil.copy(full_path, \"cleaned_data.csv\")\n",
    "print(\" Cleaned CSV is ready to download as 'cleaned_data.csv'\")"
   ]
  },
  {
   "cell_type": "code",
   "execution_count": 64,
   "id": "f3757b7f-2fbc-430c-be57-8e3d932dd22f",
   "metadata": {},
   "outputs": [
    {
     "name": "stderr",
     "output_type": "stream",
     "text": [
      "                                                                                \r"
     ]
    },
    {
     "name": "stdout",
     "output_type": "stream",
     "text": [
      "successfully load into MongoDB\n"
     ]
    }
   ],
   "source": [
    "df_selected.write \\\n",
    "    .format(\"mongo\") \\\n",
    "    .mode(\"overwrite\") \\\n",
    "    .save()\n",
    "print(\"successfully load into MongoDB\")"
   ]
  },
  {
   "cell_type": "code",
   "execution_count": 66,
   "id": "0269a068-c36d-4c9f-a527-3de3b9d169ec",
   "metadata": {},
   "outputs": [
    {
     "name": "stdout",
     "output_type": "stream",
     "text": [
      "{'_id': ObjectId('681801e8ea4e953e3b0d23aa'), 'CMPLNT_NUM': '270364459', 'CMPLNT_FR_DT': '06/24/2023', 'CMPLNT_FR_TM': '13:10:00', 'CMPLNT_TO_TM': '13:51:00', 'ADDR_PCT_CD': 75, 'RPT_DT': '06/25/2023', 'KY_CD': 341, 'OFNS_DESC': 'PETIT LARCENY', 'PD_CD': 333, 'PD_DESC': 'LARCENY,PETIT FROM STORE-SHOPL', 'CRM_ATPT_CPTD_CD': 'COMPLETED', 'LAW_CAT_CD': 'MISDEMEANOR', 'BORO_NM': 'BROOKLYN', 'LOC_OF_OCCUR_DESC': '(null)', 'PREM_TYP_DESC': 'OTHER', 'JURIS_DESC': 'N.Y. POLICE DEPT', 'JURISDICTION_CODE': 0, 'PARKS_NM': '(null)', 'HADEVELOPT': '(null)', 'HOUSING_PSA': '(null)', 'X_COORD_CD': '1,020,327', 'Y_COORD_CD': '176,285', 'SUSP_AGE_GROUP': '(null)', 'SUSP_RACE': '(null)', 'SUSP_SEX': '(null)', 'Latitude': 40.650466, 'Longitude': -73.869986, 'Lat_Lon': '(40.650466, -73.869986)', 'PATROL_BORO': 'PATROL BORO BKLYN NORTH', 'STATION_NAME': '(null)', 'VIC_AGE_GROUP': '25-44', 'VIC_RACE': 'BLACK', 'VIC_SEX': 'D', 'date_only': datetime.datetime(2023, 6, 24, 4, 0), 'timestamp': datetime.datetime(2023, 6, 24, 17, 10), 'year': 2023, 'month': 6, 'day': 24, 'hour': 13, 'day_of_week': 'Saturday', 'time_of_day': 'Afternoon'}\n"
     ]
    }
   ],
   "source": [
    "from pymongo import MongoClient\n",
    "\n",
    "client = MongoClient(\"mongodb://localhost:27017/\")\n",
    "\n",
    "db = client[\"nyc_crime\"]\n",
    "collection = db[\"complaints\"]\n",
    "\n",
    "result = collection.find_one()\n",
    "print(result)"
   ]
  },
  {
   "cell_type": "code",
   "execution_count": 68,
   "id": "ce9d7abc-f37a-4166-aff6-b62dbb33bd67",
   "metadata": {},
   "outputs": [
    {
     "name": "stdout",
     "output_type": "stream",
     "text": [
      "The file is already copied to Neo4j import folder: /Users/pallavigudipati/Library/Application Support/Neo4j Desktop/Application/relate-data/dbmss/dbms-b8654556-9669-4d7f-ace5-dc88298c2713/import/cleaned_data.csv\n"
     ]
    }
   ],
   "source": [
    "import os\n",
    "import shutil\n",
    "\n",
    "# Update path as needed\n",
    "neo4j_import_path = \"/Users/pallavigudipati/Library/Application Support/Neo4j Desktop/Application/relate-data/dbmss/dbms-b8654556-9669-4d7f-ace5-dc88298c2713/import\"\n",
    "source_csv = \"cleaned_data.csv\"\n",
    "destination_csv = os.path.join(neo4j_import_path, \"cleaned_data.csv\")\n",
    "\n",
    "# Ensure the Neo4j import directory exists\n",
    "os.makedirs(neo4j_import_path, exist_ok=True)\n",
    "\n",
    "# Copy the file\n",
    "shutil.copy(source_csv, destination_csv)\n",
    "print(f\"The file is already copied to Neo4j import folder: {destination_csv}\")\n"
   ]
  },
  {
   "cell_type": "code",
   "execution_count": 70,
   "id": "78946ea3-378e-482d-8a44-2b7d1c7a30db",
   "metadata": {},
   "outputs": [
    {
     "name": "stdout",
     "output_type": "stream",
     "text": [
      "Successfully connected to Neo4j!\n"
     ]
    }
   ],
   "source": [
    "from neo4j import GraphDatabase\n",
    "import pandas as pd\n",
    "\n",
    "## Connect to Neo4j\n",
    "database_name = \"Crime Data\"\n",
    "username = \"neo4j\"\n",
    "password = \"pallavidata\"\n",
    "uri = \"bolt://localhost:7687/apan5400\" + database_name\n",
    "driver = GraphDatabase.driver(uri, auth=(username, password))\n",
    "session = driver.session()\n",
    "print(\"Successfully connected to Neo4j!\")"
   ]
  },
  {
   "cell_type": "code",
   "execution_count": 72,
   "id": "88d402fb-81a0-46d4-8546-218df9806dba",
   "metadata": {},
   "outputs": [],
   "source": [
    "# # Cypher query to delete everything\n",
    "# delete_all_query = \"MATCH (n) DETACH DELETE n\"\n",
    "\n",
    "# # Execute the query\n",
    "\n",
    "# with driver.session() as session:\n",
    "#     session.run(delete_all_query)\n",
    "\n",
    "# print(\"All graphs (nodes and relationships) deleted.\")"
   ]
  },
  {
   "cell_type": "code",
   "execution_count": 74,
   "id": "57a2b7b8-280f-4692-9927-200e02fc9060",
   "metadata": {},
   "outputs": [],
   "source": [
    "import os\n",
    "os.makedirs(\"static\", exist_ok=True)"
   ]
  },
  {
   "cell_type": "code",
   "execution_count": 76,
   "id": "e2ebb7f8-4dc1-4d51-a171-90b441992665",
   "metadata": {},
   "outputs": [
    {
     "name": "stdout",
     "output_type": "stream",
     "text": [
      "Requirement already satisfied: plotly in /opt/anaconda3/lib/python3.12/site-packages (5.24.1)\n",
      "Requirement already satisfied: networkx in /opt/anaconda3/lib/python3.12/site-packages (3.3)\n",
      "Requirement already satisfied: tenacity>=6.2.0 in /opt/anaconda3/lib/python3.12/site-packages (from plotly) (8.2.3)\n",
      "Requirement already satisfied: packaging in /opt/anaconda3/lib/python3.12/site-packages (from plotly) (24.1)\n",
      "Requirement already satisfied: py2neo in /opt/anaconda3/lib/python3.12/site-packages (2021.2.4)\n",
      "Requirement already satisfied: certifi in /opt/anaconda3/lib/python3.12/site-packages (from py2neo) (2025.1.31)\n",
      "Requirement already satisfied: interchange~=2021.0.4 in /opt/anaconda3/lib/python3.12/site-packages (from py2neo) (2021.0.4)\n",
      "Requirement already satisfied: monotonic in /opt/anaconda3/lib/python3.12/site-packages (from py2neo) (1.6)\n",
      "Requirement already satisfied: packaging in /opt/anaconda3/lib/python3.12/site-packages (from py2neo) (24.1)\n",
      "Requirement already satisfied: pansi>=2020.7.3 in /opt/anaconda3/lib/python3.12/site-packages (from py2neo) (2024.11.0)\n",
      "Requirement already satisfied: pygments>=2.0.0 in /opt/anaconda3/lib/python3.12/site-packages (from py2neo) (2.15.1)\n",
      "Requirement already satisfied: six>=1.15.0 in /opt/anaconda3/lib/python3.12/site-packages (from py2neo) (1.16.0)\n",
      "Requirement already satisfied: urllib3 in /opt/anaconda3/lib/python3.12/site-packages (from py2neo) (2.2.3)\n",
      "Requirement already satisfied: pytz in /opt/anaconda3/lib/python3.12/site-packages (from interchange~=2021.0.4->py2neo) (2024.1)\n",
      "Requirement already satisfied: pillow in /opt/anaconda3/lib/python3.12/site-packages (from pansi>=2020.7.3->py2neo) (10.4.0)\n"
     ]
    }
   ],
   "source": [
    "!pip install plotly networkx\n",
    "!pip install py2neo"
   ]
  },
  {
   "cell_type": "code",
   "execution_count": 77,
   "id": "73c8790d-8bae-4d7a-b654-04be9264bba6",
   "metadata": {},
   "outputs": [
    {
     "name": "stdout",
     "output_type": "stream",
     "text": [
      "Requirement already satisfied: psycopg2-binary in /opt/anaconda3/lib/python3.12/site-packages (2.9.10)\n"
     ]
    }
   ],
   "source": [
    "!pip install psycopg2-binary"
   ]
  },
  {
   "cell_type": "code",
   "execution_count": null,
   "id": "a0c9a878-558e-4793-8194-46b8262ecace",
   "metadata": {},
   "outputs": [
    {
     "name": "stdout",
     "output_type": "stream",
     "text": [
      " * Serving Flask app '__main__'\n",
      " * Debug mode: on\n"
     ]
    },
    {
     "name": "stderr",
     "output_type": "stream",
     "text": [
      "INFO:werkzeug:\u001b[31m\u001b[1mWARNING: This is a development server. Do not use it in a production deployment. Use a production WSGI server instead.\u001b[0m\n",
      " * Running on http://127.0.0.1:5036\n",
      "INFO:werkzeug:\u001b[33mPress CTRL+C to quit\u001b[0m\n",
      "/var/folders/br/zzk454fx6jvc78d37sqjs7mr0000gn/T/ipykernel_86541/1784320201.py:186: UserWarning:\n",
      "\n",
      "pandas only supports SQLAlchemy connectable (engine/connection) or database string URI or sqlite3 DBAPI2 connection. Other DBAPI2 objects are not tested. Please consider using SQLAlchemy.\n",
      "\n",
      "INFO:werkzeug:127.0.0.1 - - [04/May/2025 20:23:37] \"GET / HTTP/1.1\" 200 -\n",
      "INFO:werkzeug:127.0.0.1 - - [04/May/2025 20:23:37] \"GET /static/graph1.html HTTP/1.1\" 200 -\n",
      "INFO:werkzeug:127.0.0.1 - - [04/May/2025 20:23:37] \"GET /static/graph2.html HTTP/1.1\" 200 -\n",
      "INFO:werkzeug:127.0.0.1 - - [04/May/2025 20:23:37] \"\u001b[33mGET /static/lib/bindings/utils.js HTTP/1.1\u001b[0m\" 404 -\n",
      "INFO:werkzeug:127.0.0.1 - - [04/May/2025 20:23:37] \"\u001b[33mGET /static/lib/bindings/utils.js HTTP/1.1\u001b[0m\" 404 -\n"
     ]
    }
   ],
   "source": [
    "import os\n",
    "from flask import Flask, request, render_template_string\n",
    "from pymongo import MongoClient\n",
    "from collections import Counter\n",
    "import folium\n",
    "from folium.plugins import MarkerCluster\n",
    "import psycopg2\n",
    "import pandas as pd\n",
    "import plotly.graph_objs as go\n",
    "import plotly.io as pio\n",
    "from neo4j import GraphDatabase\n",
    "from pyvis.network import Network\n",
    "\n",
    "# CONFIG\n",
    "\n",
    "os.makedirs(\"static\", exist_ok=True)\n",
    "\n",
    "# MongoDB\n",
    "mongo_client     = MongoClient(\"mongodb://localhost:27017/\")\n",
    "mongo_collection = mongo_client[\"nyc_crime\"][\"complaints\"]\n",
    "\n",
    "# PostgreSQL helper\n",
    "def get_pg_conn():\n",
    "    return psycopg2.connect(\n",
    "        dbname=\"Data\", user=\"postgres\", password=\"123\",\n",
    "        host=\"localhost\", port=\"5432\"\n",
    "    )\n",
    "\n",
    "# Neo4j driver\n",
    "NEO4J_URI  = \"bolt://localhost:7687\"\n",
    "NEO4J_AUTH = (\"neo4j\", \"pallavidata\")\n",
    "neo4j_driver = GraphDatabase.driver(NEO4J_URI, auth=NEO4J_AUTH)\n",
    "\n",
    "# Flask\n",
    "app = Flask(__name__, static_folder=\"static\")\n",
    "\n",
    "\n",
    "# 1) Graph1: Time–Crime–Location → static/graph1.html\n",
    "\n",
    "def generate_graph1():\n",
    "    with neo4j_driver.session() as session:\n",
    "        session.run(\"\"\"\n",
    "        LOAD CSV WITH HEADERS\n",
    "          FROM 'file:///cleaned_data.csv' AS line\n",
    "        WITH line\n",
    "        LIMIT 100\n",
    "\n",
    "        MERGE (crime:Crime { complaint_id: line.CMPLNT_NUM })\n",
    "        MERGE (time:Time { date: line.CMPLNT_FR_DT, time: line.CRM_ATPT_CPTD_CD })\n",
    "        MERGE (location:Location {\n",
    "          latitude: line.Latitude,\n",
    "          longitude: line.Longitude,\n",
    "          premise_type: coalesce(line.PREM_TYP_DESC,'UNKNOWN')\n",
    "        })\n",
    "        WITH crime, time, location,\n",
    "          CASE \n",
    "            WHEN toInteger(substring(time.time,0,2)) >= 5  AND toInteger(substring(time.time,0,2)) < 12 THEN 'Morning'\n",
    "            WHEN toInteger(substring(time.time,0,2)) >= 12 AND toInteger(substring(time.time,0,2)) < 17 THEN 'Afternoon'\n",
    "            WHEN toInteger(substring(time.time,0,2)) >= 17 AND toInteger(substring(time.time,0,2)) < 21 THEN 'Evening'\n",
    "            ELSE 'Night'\n",
    "          END AS TimePeriodLabel,\n",
    "          location.premise_type AS LocationTypeLabel\n",
    "        MERGE (tp:TimePeriod { period: TimePeriodLabel })\n",
    "        MERGE (lt:LocationType { type: LocationTypeLabel })\n",
    "        MERGE (crime)-[:OCCURRED_IN_PERIOD]->(tp)\n",
    "        MERGE (crime)-[:HAPPENED_AT_TYPE]->(lt);\n",
    "        \"\"\")\n",
    "\n",
    "        result = session.run(\"\"\"\n",
    "        MATCH (c:Crime)-[:OCCURRED_IN_PERIOD]->(tp:TimePeriod),\n",
    "              (c)-[:HAPPENED_AT_TYPE]->(lt:LocationType)\n",
    "        RETURN c, tp, lt\n",
    "        LIMIT 100;\n",
    "        \"\"\")\n",
    "\n",
    "        net1 = Network(height=\"500px\", width=\"100%\", directed=True)\n",
    "        for rec in result:\n",
    "            c, tp, lt = rec[\"c\"], rec[\"tp\"], rec[\"lt\"]\n",
    "            net1.add_node(c.element_id,  label=c[\"complaint_id\"], color=\"lightblue\")\n",
    "            net1.add_node(tp.element_id, label=tp[\"period\"],         color=\"orange\")\n",
    "            net1.add_node(lt.element_id, label=lt[\"type\"],           color=\"green\")\n",
    "            net1.add_edge(c.element_id, tp.element_id, label=\"Time\")\n",
    "            net1.add_edge(c.element_id, lt.element_id, label=\"Location\")\n",
    "\n",
    "        net1.write_html(\"static/graph1.html\")\n",
    "\n",
    "# 2) Graph2: Offense→Victim → static/graph2.html (yellow & bright blue)\n",
    "\n",
    "def generate_graph2(limit=500):\n",
    "    with neo4j_driver.session() as session:\n",
    "        # import + count-aggregation (note the doubled {{ }} for literal braces)\n",
    "        session.run(f\"\"\"\n",
    "        LOAD CSV WITH HEADERS\n",
    "          FROM 'file:///cleaned_data.csv' AS line\n",
    "        WITH line\n",
    "        LIMIT {limit}\n",
    "\n",
    "        MERGE (off:Offense {{ description: coalesce(line.OFNS_DESC,'UNKNOWN') }})\n",
    "        MERGE (vic:Victim {{\n",
    "          age_group: coalesce(line.VIC_AGE_GROUP,'UNKNOWN'),\n",
    "          race:      coalesce(line.VIC_RACE,'UNKNOWN'),\n",
    "          sex:       coalesce(line.VIC_SEX,'UNKNOWN')\n",
    "        }})\n",
    "        MERGE (off)-[r:COMMITTED_AGAINST]->(vic)\n",
    "          ON CREATE SET r.count = 1\n",
    "          ON MATCH  SET r.count = r.count + 1;\n",
    "        \"\"\")\n",
    "\n",
    "        # fetch top‐N\n",
    "        result = session.run(f\"\"\"\n",
    "        MATCH (o:Offense)-[r:COMMITTED_AGAINST]->(v:Victim)\n",
    "        RETURN o, r.count AS cnt, v\n",
    "        ORDER BY cnt DESC\n",
    "        LIMIT {limit};\n",
    "        \"\"\")\n",
    "\n",
    "        net2 = Network(height=\"500px\", width=\"100%\", directed=True)\n",
    "        for rec in result:\n",
    "            o, v, cnt = rec[\"o\"], rec[\"v\"], rec[\"cnt\"]\n",
    "            # golden yellow for offense\n",
    "            net2.add_node(o.element_id,\n",
    "                          label=f\"Offense: {o['description']}\",\n",
    "                          color=\"#FFD700\")\n",
    "            # bright sky-blue for victim\n",
    "            net2.add_node(v.element_id,\n",
    "                          label=f\"Victim: {v['age_group']}, {v['race']}, {v['sex']}\",\n",
    "                          color=\"#00BFFF\")\n",
    "            net2.add_edge(o.element_id, v.element_id, label=f\"Count: {cnt}\")\n",
    "\n",
    "        net2.write_html(\"static/graph2.html\")\n",
    "\n",
    "\n",
    "# 3) PostgreSQL setup & charting\n",
    "\n",
    "def setup_postgre():\n",
    "    conn = get_pg_conn(); cur = conn.cursor()\n",
    "    cur.execute(\"DROP TABLE IF EXISTS crime_table2;\")\n",
    "    cur.execute(\"\"\"\n",
    "      CREATE TABLE crime_table2 (\n",
    "        cmplnt_num TEXT,\n",
    "        ofns_desc   TEXT,\n",
    "        boro_nm     TEXT,\n",
    "        law_cat_cd  TEXT,\n",
    "        cmplnt_fr_dt DATE\n",
    "      );\n",
    "    \"\"\")\n",
    "    sample = []\n",
    "    for boro in [\"BRONX\",\"BROOKLYN\",\"MANHATTAN\",\"QUEENS\",\"STATEN ISLAND\"]:\n",
    "        docs = list(mongo_collection.find({\n",
    "            \"CMPLNT_NUM\":{\"$ne\":None},\n",
    "            \"OFNS_DESC\":{\"$ne\":None},\n",
    "            \"BORO_NM\":boro,\n",
    "            \"LAW_CAT_CD\":{\"$ne\":None},\n",
    "            \"CMPLNT_FR_DT\":{\"$ne\":None}\n",
    "        }, {\n",
    "            \"CMPLNT_NUM\":1,\"OFNS_DESC\":1,\"BORO_NM\":1,\n",
    "            \"LAW_CAT_CD\":1,\"CMPLNT_FR_DT\":1\n",
    "        }).limit(2000))\n",
    "        sample.extend(docs)\n",
    "\n",
    "    df = pd.DataFrame(sample)\n",
    "    for r in df.itertuples(index=False):\n",
    "        cur.execute(\"\"\"\n",
    "          INSERT INTO crime_table2\n",
    "            (cmplnt_num, ofns_desc, boro_nm, law_cat_cd, cmplnt_fr_dt)\n",
    "          VALUES (%s,%s,%s,%s,%s)\n",
    "        \"\"\", (str(r.CMPLNT_NUM), r.OFNS_DESC, r.BORO_NM, r.LAW_CAT_CD, r.CMPLNT_FR_DT))\n",
    "\n",
    "    conn.commit(); cur.close(); conn.close()\n",
    "\n",
    "\n",
    "def generate_pg_charts(selected):\n",
    "    conn = get_pg_conn()\n",
    "    queries = {\n",
    "      \"borough\":        \"SELECT boro_nm, COUNT(*) FROM crime_table2 GROUP BY boro_nm ORDER BY 2 DESC\",\n",
    "      \"monthly_trends\":\"SELECT TO_CHAR(cmplnt_fr_dt,'Mon') AS m, COUNT(*) FROM crime_table2 GROUP BY m ORDER BY MIN(EXTRACT(MONTH FROM cmplnt_fr_dt))\",\n",
    "      \"top_crimes\":     \"SELECT ofns_desc, COUNT(*) FROM crime_table2 GROUP BY ofns_desc ORDER BY 2 DESC LIMIT 5\",\n",
    "      \"by_date\":        \"SELECT cmplnt_fr_dt, COUNT(*) FROM crime_table2 GROUP BY cmplnt_fr_dt ORDER BY 1\"\n",
    "    }\n",
    "    titles = {\n",
    "      \"borough\":        \"Crime Count by Borough\",\n",
    "      \"monthly_trends\":\"Monthly Crime Trends\",\n",
    "      \"top_crimes\":     \"Top 5 Crime Types\",\n",
    "      \"by_date\":        \"Daily Crime Pattern\"\n",
    "    }\n",
    "    df = pd.read_sql(queries[selected], conn)\n",
    "    conn.close()\n",
    "    if selected in [\"monthly_trends\",\"by_date\"]:\n",
    "        fig = go.Figure([go.Scatter(x=df.iloc[:,0], y=df.iloc[:,1], mode=\"lines+markers\")])\n",
    "    elif selected == \"borough\":\n",
    "        fig = go.Figure([go.Bar(x=df.iloc[:,0], y=df.iloc[:,1])])\n",
    "    else:\n",
    "        fig = go.Figure([go.Pie(labels=df.iloc[:,0], values=df.iloc[:,1])])\n",
    "    fig.update_layout(title=titles[selected], height=400, template=\"plotly_white\")\n",
    "    return pio.to_html(fig, full_html=False)\n",
    "\n",
    "\n",
    "# 4) Flask dashboard\n",
    "\n",
    "@app.route(\"/\")\n",
    "def dashboard():\n",
    "    borough        = request.args.get(\"borough\", \"\")\n",
    "    offense        = request.args.get(\"offense\", \"\")\n",
    "    page           = int(request.args.get(\"page\", \"1\"))\n",
    "    selected_chart = request.args.get(\"chart\", \"borough\")\n",
    "    per_page       = 10\n",
    "\n",
    "    qry = {\"Latitude\": {\"$ne\": None}, \"Longitude\": {\"$ne\": None}}\n",
    "    if borough:\n",
    "        qry[\"BORO_NM\"] = borough\n",
    "    if offense:\n",
    "        qry[\"OFNS_DESC\"] = {\"$regex\": offense, \"$options\": \"i\"}\n",
    "    docs = list(mongo_collection.find(qry, {\n",
    "      \"Latitude\": 1, \"Longitude\": 1, \"OFNS_DESC\": 1,\n",
    "      \"BORO_NM\": 1, \"CMPLNT_NUM\": 1\n",
    "    }).limit(1000))\n",
    "    table_results = docs[(page-1)*per_page : page*per_page]\n",
    "\n",
    "    # Folium map\n",
    "    m  = folium.Map(location=[40.7128, -74.0060], zoom_start=11)\n",
    "    mc = MarkerCluster().add_to(m)\n",
    "    for d in docs:\n",
    "        try:\n",
    "            folium.Marker(\n",
    "              [float(d[\"Latitude\"]), float(d[\"Longitude\"])],\n",
    "              popup=f\"{d['OFNS_DESC']} ({d['BORO_NM']})\"\n",
    "            ).add_to(mc)\n",
    "        except:\n",
    "            pass\n",
    "\n",
    "    top5   = Counter(d.get(\"OFNS_DESC\",\"Unknown\") for d in docs).most_common(5)\n",
    "    labels = [x for x,_ in top5]\n",
    "    values = [v for _,v in top5]\n",
    "\n",
    "    chart_html = generate_pg_charts(selected_chart)\n",
    "    map_html   = m._repr_html_()\n",
    "\n",
    "    return render_template_string(\"\"\"\n",
    "<!DOCTYPE html>\n",
    "<html><head>\n",
    "  <title>NYC Crime Dashboard</title>\n",
    "  <meta charset=\"utf-8\">\n",
    "  <link href=\"https://cdn.jsdelivr.net/npm/bootstrap@5.3.0/dist/css/bootstrap.min.css\" rel=\"stylesheet\">\n",
    "  <script src=\"https://cdn.jsdelivr.net/npm/chart.js\"></script>\n",
    "</head><body class=\"bg-light\">\n",
    "<div class=\"container mt-4\"><h1 class=\"mb-4\">NYC Crime Dashboard</h1><div class=\"row\">\n",
    "  <div class=\"col-md-4\">\n",
    "    <form method=\"get\" onchange=\"this.submit()\">\n",
    "      <div class=\"card mb-3 p-3\"><h5>Filters</h5>\n",
    "        <select name=\"borough\" class=\"form-select mb-2\">\n",
    "          <option value=\"\">-- All --</option>\n",
    "          {% for b in ['MANHATTAN','BROOKLYN','QUEENS','BRONX','STATEN ISLAND'] %}\n",
    "            <option value=\"{{b}}\" {% if borough==b %}selected{%endif%}>{{b}}</option>\n",
    "          {% endfor %}\n",
    "        </select>\n",
    "        <input name=\"offense\" value=\"{{offense}}\" class=\"form-control mb-2\" placeholder=\"Crime keyword…\">\n",
    "      </div>\n",
    "    </form>\n",
    "    <div class=\"card mb-3 p-3\"><h5>Top 5 Crimes</h5><canvas id=\"pieChart\"></canvas></div>\n",
    "    <div class=\"card mb-3 p-3\"><h5>Time→Crime→Location</h5>\n",
    "      <iframe src=\"/static/graph1.html\" width=\"100%\" height=\"300\" style=\"border:1px solid #ddd;\"></iframe>\n",
    "    </div>\n",
    "    <div class=\"card mb-3 p-3\"><h5>Offense→Victim</h5>\n",
    "      <iframe src=\"/static/graph2.html\" width=\"100%\" height=\"300\" style=\"border:1px solid #ddd;\"></iframe>\n",
    "    </div>\n",
    "  </div>\n",
    "  <div class=\"col-md-8\">\n",
    "    <div class=\"card mb-3\"><div class=\"card-body\">{{ map_html|safe }}</div></div>\n",
    "    <div class=\"card mb-3 p-3\"><h5>Analytics Charts</h5>\n",
    "      <select class=\"form-select mb-2\" onchange=\"location.search='chart='+this.value\">\n",
    "        <option value=\"borough\"        {% if selected_chart=='borough'%}selected{%endif%}>Crime Count by Borough</option>\n",
    "        <option value=\"monthly_trends\" {% if selected_chart=='monthly_trends'%}selected{%endif%}>Monthly Crime Trends</option>\n",
    "        <option value=\"top_crimes\"     {% if selected_chart=='top_crimes'%}selected{%endif%}>Top 5 Crime Types</option>\n",
    "        <option value=\"by_date\"        {% if selected_chart=='by_date'%}selected{%endif%}>Daily Crime Pattern</option>\n",
    "      </select>\n",
    "      {{ chart_html|safe }}\n",
    "    </div>\n",
    "    <div class=\"card p-3\"><h5>Complaints</h5>\n",
    "      <input id=\"searchBox\" class=\"form-control mb-2\" placeholder=\"Search…\">\n",
    "      <div style=\"max-height:300px; overflow-y:auto;\">\n",
    "        <table class=\"table table-sm\"><thead><tr><th>ID</th><th>Boro</th><th>Offense</th></tr></thead><tbody id=\"tableBody\">\n",
    "          {% for r in table_results %}\n",
    "            <tr><td>{{r['CMPLNT_NUM']}}</td><td>{{r['BORO_NM']}}</td><td>{{r['OFNS_DESC']}}</td></tr>\n",
    "          {% endfor %}\n",
    "        </tbody></table>\n",
    "      </div>\n",
    "    </div>\n",
    "  </div>\n",
    "</div></div>\n",
    "<script src=\"https://kit.fontawesome.com/a076d05399.js\"></script>\n",
    "<script>\n",
    "  new Chart(document.getElementById(\"pieChart\"), {\n",
    "    type:\"pie\", data:{ labels:{{labels|safe}}, datasets:[{ data:{{values|safe}} }] }\n",
    "  });\n",
    "  document.getElementById(\"searchBox\").addEventListener(\"keyup\",function(){\n",
    "    const q=this.value.toLowerCase();\n",
    "    document.querySelectorAll(\"#tableBody tr\")\n",
    "      .forEach(r=>r.style.display=r.textContent.toLowerCase().includes(q)?\"\":\"none\");\n",
    "  });\n",
    "</script>\n",
    "</body></html>\n",
    "\"\"\",\n",
    "      borough=borough,\n",
    "      offense=offense,\n",
    "      selected_chart=selected_chart,\n",
    "      map_html=map_html,\n",
    "      chart_html=chart_html,\n",
    "      table_results=table_results,\n",
    "      labels=labels,\n",
    "      values=values\n",
    "    )\n",
    "\n",
    "if __name__ == \"__main__\":\n",
    "    generate_graph1()\n",
    "    generate_graph2(limit=100)\n",
    "    setup_postgre()\n",
    "    app.run(debug=True, port=5036, use_reloader=False)\n"
   ]
  },
  {
   "cell_type": "code",
   "execution_count": null,
   "id": "fc256a37-b7bd-435a-b03c-8be97ab4e86f",
   "metadata": {},
   "outputs": [],
   "source": []
  }
 ],
 "metadata": {
  "kernelspec": {
   "display_name": "Python [conda env:base] *",
   "language": "python",
   "name": "conda-base-py"
  },
  "language_info": {
   "codemirror_mode": {
    "name": "ipython",
    "version": 3
   },
   "file_extension": ".py",
   "mimetype": "text/x-python",
   "name": "python",
   "nbconvert_exporter": "python",
   "pygments_lexer": "ipython3",
   "version": "3.12.7"
  }
 },
 "nbformat": 4,
 "nbformat_minor": 5
}
